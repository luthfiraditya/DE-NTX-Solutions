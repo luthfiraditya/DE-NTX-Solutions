{
 "cells": [
  {
   "cell_type": "code",
   "execution_count": 5,
   "metadata": {},
   "outputs": [],
   "source": [
    "import pandas as pd\n",
    "from sqlalchemy import create_engine\n",
    "from mysql.connector import connect\n",
    "import os"
   ]
  },
  {
   "cell_type": "code",
   "execution_count": 3,
   "metadata": {},
   "outputs": [],
   "source": [
    "connection = connect(user=os.environ['mysqluser'], password=os.environ['mysqlpass'], host=os.environ['mysqlhost'])"
   ]
  },
  {
   "cell_type": "code",
   "execution_count": 4,
   "metadata": {},
   "outputs": [
    {
     "name": "stdout",
     "output_type": "stream",
     "text": [
      "[('belajar_mysql',), ('information_schema',), ('mysql',), ('new_schema',), ('ntx-de',), ('performance_schema',), ('sys',), ('tinkerlust',), ('w3resource',)]\n"
     ]
    }
   ],
   "source": [
    "cursor = connection.cursor()\n",
    "query = (\"SHOW DATABASES\")\n",
    "cursor.execute(query)\n",
    "print(cursor.fetchall())"
   ]
  },
  {
   "cell_type": "code",
   "execution_count": 9,
   "metadata": {},
   "outputs": [],
   "source": [
    "engine_uri = f\"mysql+pymysql://{os.environ['mysqluser']}:{os.environ['mysqlpass']}@{os.environ['mysqlhost']}/{'ntx-de'}\"\n",
    "connection = create_engine(engine_uri)"
   ]
  },
  {
   "cell_type": "code",
   "execution_count": 10,
   "metadata": {},
   "outputs": [
    {
     "name": "stdout",
     "output_type": "stream",
     "text": [
      "         fullVisitorId channelGrouping     time        country  \\\n",
      "0  2515546493837534633  Organic Search   966564         Taiwan   \n",
      "1  7313828956068851679        Referral   228279  United States   \n",
      "2  6036794406403793540  Organic Search  1615618  United States   \n",
      "3  7847280609739507227  Organic Search    37832         Canada   \n",
      "4  1371078687799372953        Referral   478901  United States   \n",
      "\n",
      "                            city totalTransactionRevenue transactions  \\\n",
      "0                      (not set)                                        \n",
      "1                  San Francisco                                        \n",
      "2                        Boulder                                        \n",
      "3  not available in demo dataset                                        \n",
      "4                      Ann Arbor                67570000            1   \n",
      "\n",
      "   timeOnSite  pageviews sessionQualityDim  ...  itemQuantity  itemRevenue  \\\n",
      "0        1567         82                17  ...                              \n",
      "1         927         11                63  ...                              \n",
      "2        1616         13                38  ...                              \n",
      "3        1222         45                53  ...                              \n",
      "4        1569         48                87  ...                              \n",
      "\n",
      "  transactionRevenue transactionId pageTitle  searchKeyword   pagePathLevel1  \\\n",
      "0                                                            /storeitem.html   \n",
      "1                                                            /storeitem.html   \n",
      "2                                                            /storeitem.html   \n",
      "3                                                            /storeitem.html   \n",
      "4                                                            /storeitem.html   \n",
      "\n",
      "  eCommerceAction_type eCommerceAction_step eCommerceAction_option  \n",
      "0                    0                    1                         \n",
      "1                    0                    1                         \n",
      "2                    0                    1                         \n",
      "3                    0                    1                         \n",
      "4                    0                    1                         \n",
      "\n",
      "[5 rows x 32 columns]\n"
     ]
    }
   ],
   "source": [
    "query = (\"SELECT * FROM ecommerce \")\n",
    "df = pd.read_sql(query, connection)\n",
    "print(df.head())"
   ]
  },
  {
   "cell_type": "markdown",
   "metadata": {},
   "source": [
    "### Identify top products based on the total transaction revenue per day."
   ]
  },
  {
   "cell_type": "markdown",
   "metadata": {},
   "source": [
    "prompt : write me sql query to Identify top products based on the total transaction revenue per day. the column you need consider is  date, productSKU, totalTransactionRevenue \n",
    "\n",
    "respons : \n",
    "SELECT date, productSKU, SUM(totalTransactionRevenue) AS TotalRevenue\n",
    "FROM yourTableName\n",
    "GROUP BY date, productSKU\n",
    "ORDER BY date, TotalRevenue DESC;\n",
    "\n",
    "prompt : why the result not show the top sum of totalTransactionRevenue per day/date?\n",
    "answer : if you need to retrieve only the top products for each day based on the total revenue, you can use a query that ranks the products for each day. Depending on the database system you're using, the exact query might vary.\n",
    "\n",
    "For instance, using window function for ranking (if supported), the query might look something like this for databases such as PostgreSQL or SQL Server:\n",
    "\n",
    "SELECT date, productSKU, TotalRevenue\n",
    "FROM (SELECT date, productSKU, SUM(totalTransactionRevenue) AS TotalRevenue,\n",
    "           RANK() OVER(PARTITION BY date ORDER BY SUM(totalTransactionRevenue) DESC) AS revenueRank\n",
    "    FROM ecommerce\n",
    "    GROUP BY date, productSKU)\n",
    "WHERE revenueRank = 1\n",
    "ORDER BY date;\n"
   ]
  },
  {
   "cell_type": "markdown",
   "metadata": {},
   "source": [
    "improvement :\n",
    "1. Use a CTE instead of a subquery. This is a matter of style, but CTEs are generally considered to be more readable and maintainable.\n",
    "2. Replace RANK() with ROW_NUMBER() because RANK() will display all rows with the same target value in the same partition.\n",
    "3. Add a comment to the query to explain what it does.\n",
    "4. Indentation and formatting: Proper indentation and formatting can make the query easier to read."
   ]
  },
  {
   "cell_type": "markdown",
   "metadata": {},
   "source": [
    "WITH RankedProducts AS (\n",
    "    SELECT date, productSKU, SUM(totalTransactionRevenue) AS TotalRevenue,\n",
    "           RANK() OVER(PARTITION BY date ORDER BY SUM(totalTransactionRevenue) DESC) AS revenueRank\n",
    "    FROM yourTableName\n",
    "    GROUP BY date, productSKU\n",
    ")\n",
    "SELECT date, productSKU, TotalRevenue\n",
    "FROM ecommerce\n",
    "WHERE revenueRank = 1;"
   ]
  },
  {
   "cell_type": "code",
   "execution_count": 30,
   "metadata": {},
   "outputs": [
    {
     "name": "stdout",
     "output_type": "stream",
     "text": [
      "       date      productSKU  TotalRevenue\n",
      "0  20160801  GGOEGBJR018199  1.447900e+08\n",
      "1  20160802  GGOEGBJR018199  1.912000e+08\n",
      "2  20160803    GGOEGAAX0037  0.000000e+00\n",
      "3  20160804  GGOEGBCR024399  1.138500e+08\n",
      "4  20160805  GGOEGBJR018199  2.000600e+08\n",
      "5  20160806  GGOEGBMC056599  1.036100e+09\n",
      "6  20160807  GGOEGBJR018199  1.405900e+08\n",
      "7  20160808  GGOEGBJC019999  1.840000e+08\n",
      "8  20160809  GGOEGBJL013999  4.019200e+08\n",
      "9  20160810  GGOEGBJL013999  6.575100e+08\n"
     ]
    }
   ],
   "source": [
    "query = ('''WITH RankedProducts AS (\n",
    "        -- Calculate the total revenue for each product on a specific date and rank them\n",
    "        SELECT \n",
    "            date, \n",
    "            productSKU, \n",
    "            SUM(totalTransactionRevenue) AS TotalRevenue,\n",
    "            ROW_NUMBER() OVER(PARTITION BY date ORDER BY SUM(totalTransactionRevenue) DESC) AS revenueRank\n",
    "        FROM \n",
    "            ecommerce\n",
    "        GROUP BY \n",
    "            date, productSKU\n",
    "        )\n",
    "        -- Select the products with the highest revenue for each date\n",
    "        SELECT \n",
    "            date, \n",
    "            productSKU, \n",
    "            TotalRevenue\n",
    "        FROM \n",
    "            RankedProducts\n",
    "        WHERE \n",
    "            revenueRank = 1;''')\n",
    "df = pd.read_sql(query, connection)\n",
    "print(df.head(10))"
   ]
  },
  {
   "cell_type": "markdown",
   "metadata": {},
   "source": [
    "### Detect any anomalies, such as a sharp decrease or increase in the number of transactions for a specific product."
   ]
  },
  {
   "cell_type": "code",
   "execution_count": null,
   "metadata": {},
   "outputs": [],
   "source": []
  },
  {
   "cell_type": "code",
   "execution_count": null,
   "metadata": {},
   "outputs": [],
   "source": []
  },
  {
   "cell_type": "code",
   "execution_count": null,
   "metadata": {},
   "outputs": [],
   "source": []
  },
  {
   "cell_type": "markdown",
   "metadata": {},
   "source": [
    "### Identify the most profitable city or province based on the total transaction revenue."
   ]
  },
  {
   "cell_type": "markdown",
   "metadata": {},
   "source": [
    "prompt : write me sql query to Identify the most profitable city or province based on the total transaction revenue.\n",
    "\n",
    "respons : Certainly! To identify the most profitable city or province based on the total transaction revenue, you'd need to have a table containing transaction data with information such as city, province, and revenue. Here's an example SQL query assuming you have a table named transactions:\n",
    "\n",
    "SELECT \n",
    "    city,\n",
    "    province,\n",
    "    SUM(revenue) AS total_revenue\n",
    "FROM \n",
    "    transactions\n",
    "GROUP BY \n",
    "    city, province\n",
    "ORDER BY \n",
    "    total_revenue DESC\n",
    "LIMIT 1;"
   ]
  },
  {
   "cell_type": "markdown",
   "metadata": {},
   "source": [
    "but the result is \n",
    "\n",
    "Row\t| city                         |   total_revenue\n",
    "\n",
    "1\t| not available in demo dataset |  240550358070000\n",
    "\n",
    "\n",
    "so we need to filter that word."
   ]
  },
  {
   "cell_type": "markdown",
   "metadata": {},
   "source": [
    "improvement :\n",
    "1. filter the 'not available in demo dataset' word\n"
   ]
  },
  {
   "cell_type": "code",
   "execution_count": 34,
   "metadata": {},
   "outputs": [
    {
     "name": "stdout",
     "output_type": "stream",
     "text": [
      "            city  total_revenue\n",
      "0       New York   1.690465e+10\n",
      "1  San Francisco   6.650790e+09\n",
      "2  Mountain View   5.506000e+09\n",
      "3        Toronto   5.427980e+09\n",
      "4        Chicago   4.539850e+09\n"
     ]
    }
   ],
   "source": [
    "query = ('''\n",
    "        SELECT \n",
    "            city,\n",
    "            SUM(totalTransactionRevenue) AS total_revenue\n",
    "        FROM \n",
    "            ecommerce\n",
    "        WHERE city<>'not available in demo dataset'\n",
    "        GROUP BY \n",
    "            city\n",
    "        ORDER BY \n",
    "            total_revenue DESC\n",
    "        LIMIT 5;\n",
    "''')\n",
    "df = pd.read_sql(query, connection)\n",
    "print(df)"
   ]
  },
  {
   "cell_type": "code",
   "execution_count": null,
   "metadata": {},
   "outputs": [],
   "source": []
  },
  {
   "cell_type": "code",
   "execution_count": null,
   "metadata": {},
   "outputs": [],
   "source": []
  },
  {
   "cell_type": "code",
   "execution_count": null,
   "metadata": {},
   "outputs": [],
   "source": []
  }
 ],
 "metadata": {
  "kernelspec": {
   "display_name": ".venv",
   "language": "python",
   "name": "python3"
  },
  "language_info": {
   "codemirror_mode": {
    "name": "ipython",
    "version": 3
   },
   "file_extension": ".py",
   "mimetype": "text/x-python",
   "name": "python",
   "nbconvert_exporter": "python",
   "pygments_lexer": "ipython3",
   "version": "3.11.3"
  }
 },
 "nbformat": 4,
 "nbformat_minor": 2
}
